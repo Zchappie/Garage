{
 "cells": [
  {
   "cell_type": "code",
   "execution_count": 2,
   "metadata": {},
   "outputs": [],
   "source": [
    "import tensorflow as tf\n",
    "import mitdeeplearning as mdl \n",
    "import numpy as np \n",
    "import matplotlib.pyplot as plt "
   ]
  },
  {
   "cell_type": "markdown",
   "metadata": {},
   "source": [
    "# Tensors "
   ]
  },
  {
   "cell_type": "code",
   "execution_count": 4,
   "metadata": {},
   "outputs": [
    {
     "name": "stdout",
     "output_type": "stream",
     "text": [
      "`sport` is a 0-d Tensor\n",
      "`number` is a 0-d Tensor\n"
     ]
    }
   ],
   "source": [
    "# 0-d tensor\n",
    "sport = tf.constant(\"Tennis\", tf.string)\n",
    "number = tf.constant(1.41421356237, tf.float64)\n",
    "\n",
    "print(\"`sport` is a {}-d Tensor\".format(tf.rank(sport).numpy()))\n",
    "print(\"`number` is a {}-d Tensor\".format(tf.rank(number).numpy()))"
   ]
  },
  {
   "cell_type": "code",
   "execution_count": 6,
   "metadata": {},
   "outputs": [
    {
     "name": "stdout",
     "output_type": "stream",
     "text": [
      "`sports` is a 1-d Tensor with shape: [2]\n",
      "`numbers` is a 1-d Tensor with shape: [3]\n"
     ]
    }
   ],
   "source": [
    "# 1-d tensor\n",
    "sports = tf.constant([\"Tennis\", \"Basketball\"], tf.string)\n",
    "numbers = tf.constant([1.2, 3.2, 8.7], tf.float64)\n",
    "\n",
    "print(\"`sports` is a {}-d Tensor with shape: {}\".format(tf.rank(sports).numpy(), tf.shape(sports)))\n",
    "print(\"`numbers` is a {}-d Tensor with shape: {}\".format(tf.rank(numbers).numpy(), tf.shape(numbers)))"
   ]
  },
  {
   "cell_type": "code",
   "execution_count": 7,
   "metadata": {},
   "outputs": [],
   "source": [
    "# higher-order tensors\n",
    "matrix = tf.constant([[1,2,3],[4,5,6]], tf.float64)\n",
    "\n",
    "assert isinstance(matrix, tf.Tensor), \"matrix must be a tf Tensor object\"\n",
    "assert tf.rank(matrix).numpy() == 2"
   ]
  },
  {
   "cell_type": "code",
   "execution_count": 9,
   "metadata": {},
   "outputs": [],
   "source": [
    "# initial tensor with tf.zeros\n",
    "images = tf.zeros((10, 256, 256, 3))\n",
    "\n",
    "assert isinstance(images, tf.Tensor), \"matrix must be a tf Tensor object\"\n",
    "assert tf.rank(images).numpy() == 4, \"matrix must be of rank 4\"\n",
    "assert tf.shape(images).numpy().tolist() == [10, 256, 256, 3], \"matrix is incorrect shape\""
   ]
  },
  {
   "cell_type": "code",
   "execution_count": 11,
   "metadata": {},
   "outputs": [
    {
     "name": "stdout",
     "output_type": "stream",
     "text": [
      "`row_vector`: [4. 5. 6.]\n",
      "`column_vector`: [3. 6.]\n",
      "`scalar`: 6.0\n"
     ]
    }
   ],
   "source": [
    "# tensor slicing\n",
    "row_vector = matrix[1]\n",
    "column_vector = matrix[:, 2]\n",
    "scalar = matrix[1, 2]\n",
    "\n",
    "print(\"`row_vector`: {}\".format(row_vector.numpy()))\n",
    "print(\"`column_vector`: {}\".format(column_vector.numpy()))\n",
    "print(\"`scalar`: {}\".format(scalar.numpy()))"
   ]
  },
  {
   "cell_type": "markdown",
   "metadata": {},
   "source": [
    "# Computations on Tensors "
   ]
  },
  {
   "cell_type": "code",
   "execution_count": 12,
   "metadata": {},
   "outputs": [
    {
     "name": "stdout",
     "output_type": "stream",
     "text": [
      "tf.Tensor(76, shape=(), dtype=int32)\n",
      "tf.Tensor(76, shape=(), dtype=int32)\n"
     ]
    }
   ],
   "source": [
    "a = tf.constant(15)\n",
    "b = tf.constant(61)\n",
    "\n",
    "c1 = tf.add(a, b)\n",
    "c2 = a + b # tf overrides the operations, '+' -> tf.add()\n",
    "print(c1)\n",
    "print(c2)"
   ]
  },
  {
   "cell_type": "code",
   "execution_count": 14,
   "metadata": {},
   "outputs": [
    {
     "name": "stdout",
     "output_type": "stream",
     "text": [
      "tf.Tensor(6.0, shape=(), dtype=float32)\n"
     ]
    }
   ],
   "source": [
    "def func(a, d):\n",
    "    c = tf.add(a, b)\n",
    "    d = tf.subtract(b, 1)\n",
    "    e = tf.multiply(c, d)\n",
    "    return e\n",
    "\n",
    "a, b = 1.5, 2.5\n",
    "e_out = func(a, b)\n",
    "print(e_out) # a tensor, withour shape"
   ]
  },
  {
   "cell_type": "markdown",
   "metadata": {},
   "source": [
    "# Neural networks in Tensorflow "
   ]
  },
  {
   "cell_type": "code",
   "execution_count": 19,
   "metadata": {},
   "outputs": [
    {
     "name": "stdout",
     "output_type": "stream",
     "text": [
      "[[0.26978594 0.45750415 0.66536945]]\n",
      "[PASS] test_custom_dense_layer_output\n"
     ]
    },
    {
     "data": {
      "text/plain": [
       "True"
      ]
     },
     "execution_count": 19,
     "metadata": {},
     "output_type": "execute_result"
    }
   ],
   "source": [
    "class OurDenseLayer(tf.keras.layers.Layer):\n",
    "    \"\"\"\n",
    "    n_output_nodes: number of output nodes\n",
    "    input_shape: shape of the input\n",
    "    x: input to the layer\n",
    "    \"\"\"\n",
    "    def __init__(self, n_output_nodes):\n",
    "        super(OurDenseLayer, self).__init__()\n",
    "        self.n_output_nodes = n_output_nodes\n",
    "        \n",
    "    def build(self, input_shape):\n",
    "        d = int(input_shape[-1])\n",
    "        self.W = self.add_weight(\"weight\", shape = [d, self.n_output_nodes])\n",
    "        self.b = self.add_weight('bias', shape = [1, self.n_output_nodes])\n",
    "        \n",
    "    def call(self, x):\n",
    "        z = tf.add(tf.matmul(x, self.W), self.b)\n",
    "        y = tf.sigmoid(z)\n",
    "        return y\n",
    "    \n",
    "# intialize parameters\n",
    "tf.random.set_seed(1) # for re-produce\n",
    "layer = OurDenseLayer(3)\n",
    "layer.build((1, 2))\n",
    "x_input = tf.constant([[1,2.]], shape=(1,2))\n",
    "y = layer.call(x_input)\n",
    "\n",
    "print(y.numpy())\n",
    "mdl.lab1.test_custom_dense_layer_output(y)"
   ]
  },
  {
   "cell_type": "code",
   "execution_count": 20,
   "metadata": {},
   "outputs": [
    {
     "name": "stdout",
     "output_type": "stream",
     "text": [
      "tf.Tensor([[ 0.24415088  0.6485772  -1.9461871 ]], shape=(1, 3), dtype=float32)\n"
     ]
    }
   ],
   "source": [
    "# now use the tf build-in\n",
    "from tensorflow.keras import Sequential\n",
    "from tensorflow.keras.layers import Dense\n",
    "\n",
    "n_output_nodes = 3\n",
    "model = Sequential()\n",
    "dense_layer = Dense(n_output_nodes)\n",
    "model.add(dense_layer)\n",
    "\n",
    "# now test it!\n",
    "x_input = tf.constant([[1,2.]], shape=(1, 2))\n",
    "model_output = model(x_input)\n",
    "print(model_output)"
   ]
  },
  {
   "cell_type": "code",
   "execution_count": 21,
   "metadata": {},
   "outputs": [
    {
     "name": "stdout",
     "output_type": "stream",
     "text": [
      "tf.Tensor([[ 0.62118787 -0.08692831  1.6387595 ]], shape=(1, 3), dtype=float32)\n"
     ]
    }
   ],
   "source": [
    "# using subclass to define customized layers, train loops, activate function etc.\n",
    "from tensorflow.keras import Model\n",
    "from tensorflow.keras.layers import Dense\n",
    "\n",
    "class SubclassModel(tf.keras.Model):\n",
    "    def __init__(self, n_output_nodes):\n",
    "        super(SubclassModel, self).__init__()\n",
    "        self.dense_layer = Dense(n_output_nodes)\n",
    "        \n",
    "    # call function defines the forward path\n",
    "    def call(self, inputs):\n",
    "        return self.dense_layer(inputs)\n",
    "    \n",
    "# now test it again\n",
    "n_output_nodes = 3\n",
    "model = SubclassModel(n_output_nodes)\n",
    "x_input = tf.constant([[1,2.]], shape=(1,2))\n",
    "print(model.call(x_input))"
   ]
  },
  {
   "cell_type": "code",
   "execution_count": 22,
   "metadata": {},
   "outputs": [
    {
     "name": "stdout",
     "output_type": "stream",
     "text": [
      "Network output with activation: [[-0.84747624  0.52264667 -0.06161666]]; network identity output: [[1. 2.]]\n"
     ]
    }
   ],
   "source": [
    "# use boolean in call  \n",
    "from tensorflow.keras import Model\n",
    "from tensorflow.keras.layers import Dense\n",
    "\n",
    "class SubclassModel(tf.keras.Model):\n",
    "    def __init__(self, n_output_nodes):\n",
    "        super(SubclassModel, self).__init__()\n",
    "        self.dense_layer = Dense(n_output_nodes)\n",
    "        \n",
    "    # call function defines the forward path\n",
    "    def call(self, inputs, isidentity= False):\n",
    "        if not isidentity:\n",
    "            return self.dense_layer(inputs)\n",
    "        else:\n",
    "            return inputs\n",
    "    \n",
    "# now test it again\n",
    "n_output_nodes = 3\n",
    "model = SubclassModel(n_output_nodes)\n",
    "x_input = tf.constant([[1,2.]], shape=(1,2))\n",
    "\n",
    "out_activate = model.call(x_input)\n",
    "out_identity = model.call(x_input, isidentity=True)\n",
    "print(\"Network output with activation: {}; network identity output: {}\".format(out_activate.numpy(), out_identity.numpy()))"
   ]
  },
  {
   "cell_type": "markdown",
   "metadata": {},
   "source": [
    "# Auto-differentiation in Tensorflow "
   ]
  },
  {
   "cell_type": "code",
   "execution_count": 23,
   "metadata": {},
   "outputs": [],
   "source": [
    "# tape is a record of a forward path\n",
    "# y = x^2\n",
    "x = tf.Variable(3.0)\n",
    "\n",
    "with tf.GradientTape() as tape:\n",
    "    y = x * x\n",
    "dy_dx = tape.gradient(y, x)\n",
    "\n",
    "assert dy_dx.numpy() == 6.0"
   ]
  },
  {
   "cell_type": "code",
   "execution_count": 30,
   "metadata": {},
   "outputs": [
    {
     "name": "stdout",
     "output_type": "stream",
     "text": [
      "Initializing x=[0.9868413]\n"
     ]
    },
    {
     "data": {
      "text/plain": [
       "Text(0, 0.5, 'x value')"
      ]
     },
     "execution_count": 30,
     "metadata": {},
     "output_type": "execute_result"
    },
    {
     "data": {
      "image/png": "[encoded data removed]",
      "text/plain": [
       "<Figure size 432x288 with 1 Axes>"
      ]
     },
     "metadata": {
      "needs_background": "light"
     },
     "output_type": "display_data"
    }
   ],
   "source": [
    "# auto-differentiation + SGD\n",
    "x = tf.Variable(tf.random.normal([1]))\n",
    "print(\"Initializing x={}\".format(x.numpy()))\n",
    "\n",
    "learning_rate = 1e-2\n",
    "history = []\n",
    "x_f = 4 # target value\n",
    "\n",
    "for i in range(500):\n",
    "    with tf.GradientTape() as tape:\n",
    "        loss = tf.pow(tf.subtract(x, x_f), 2)\n",
    "        # loss = (x - x_f) ** 2 is also okay\n",
    "    \n",
    "    grad = tape.gradient(loss, x)\n",
    "    new_x = x - learning_rate*grad\n",
    "    x.assign(new_x) # update x\n",
    "    history.append(x.numpy()[0])\n",
    "    \n",
    "plt.plot(history)\n",
    "plt.plot([0, 500], [x_f, x])\n",
    "plt.legend(('Predicted', 'True'))\n",
    "plt.xlabel('Iteration')\n",
    "plt.ylabel('x value')"
   ]
  }
 ],
 "metadata": {
  "kernelspec": {
   "display_name": "mit-tf",
   "language": "python",
   "name": "mit-tf"
  },
  "language_info": {
   "codemirror_mode": {
    "name": "ipython",
    "version": 3
   },
   "file_extension": ".py",
   "mimetype": "text/x-python",
   "name": "python",
   "nbconvert_exporter": "python",
   "pygments_lexer": "ipython3",
   "version": "3.8.5"
  }
 },
 "nbformat": 4,
 "nbformat_minor": 2
}
