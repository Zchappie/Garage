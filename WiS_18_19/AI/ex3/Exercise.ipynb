{
 "cells": [
  {
   "cell_type": "markdown",
   "metadata": {},
   "source": [
    "# Programming Exercise 3: Propositional Logic"
   ]
  },
  {
   "cell_type": "markdown",
   "metadata": {},
   "source": [
    "## Initialization"
   ]
  },
  {
   "cell_type": "code",
   "execution_count": 1,
   "metadata": {},
   "outputs": [
    {
     "ename": "ModuleNotFoundError",
     "evalue": "No module named 'utils'",
     "output_type": "error",
     "traceback": [
      "\u001b[1;31m---------------------------------------------------------------------------\u001b[0m",
      "\u001b[1;31mModuleNotFoundError\u001b[0m                       Traceback (most recent call last)",
      "\u001b[1;32m<ipython-input-1-430eea598408>\u001b[0m in \u001b[0;36m<module>\u001b[1;34m\u001b[0m\n\u001b[1;32m----> 1\u001b[1;33m \u001b[1;32mfrom\u001b[0m \u001b[0mutils\u001b[0m \u001b[1;32mimport\u001b[0m \u001b[0mexpr\u001b[0m\u001b[1;33m\u001b[0m\u001b[1;33m\u001b[0m\u001b[0m\n\u001b[0m\u001b[0;32m      2\u001b[0m \u001b[1;32mfrom\u001b[0m \u001b[0mkb\u001b[0m \u001b[1;32mimport\u001b[0m \u001b[0mDpllPropKB\u001b[0m\u001b[1;33m,\u001b[0m \u001b[0mFCPropKB\u001b[0m\u001b[1;33m\u001b[0m\u001b[1;33m\u001b[0m\u001b[0m\n\u001b[0;32m      3\u001b[0m \u001b[1;32mfrom\u001b[0m \u001b[0mmain_loop\u001b[0m \u001b[1;32mimport\u001b[0m \u001b[0mmain_loop\u001b[0m\u001b[1;33m\u001b[0m\u001b[1;33m\u001b[0m\u001b[0m\n\u001b[0;32m      4\u001b[0m \u001b[1;32mfrom\u001b[0m \u001b[0mminefield\u001b[0m \u001b[1;32mimport\u001b[0m \u001b[0mMinefield\u001b[0m\u001b[1;33m\u001b[0m\u001b[1;33m\u001b[0m\u001b[0m\n\u001b[0;32m      5\u001b[0m \u001b[1;32mimport\u001b[0m \u001b[0mmaps\u001b[0m\u001b[1;33m\u001b[0m\u001b[1;33m\u001b[0m\u001b[0m\n",
      "\u001b[1;31mModuleNotFoundError\u001b[0m: No module named 'utils'"
     ]
    }
   ],
   "source": [
    "from utils import expr\n",
    "from kb import DpllPropKB, FCPropKB\n",
    "from main_loop import main_loop\n",
    "from minefield import Minefield\n",
    "import maps"
   ]
  },
  {
   "cell_type": "markdown",
   "metadata": {},
   "source": [
    "## Knowledge Base generation\n",
    "### Variables are:\n",
    "\n",
    "$B_{i, j}$ there is a bomb in `[i, j]`.<br/>\n",
    "$O_{i, j}$ There is one bomb near `[i, j]`.<br/>\n",
    "$TW_{i, j}$ There are two bombs near `[i, j]`.<br/>\n",
    "$TH_{i, j}$ There are three bombs near `[i, j]`.<br/>\n",
    "$F_{i, j}$ There are four bombs near `[i, j]`.<br/>\n",
    "$Z_{i, j}$ There is no bomb near `[i, j]`.<br/>\n",
    "\n",
    "### Auxiliary functions\n",
    "\n",
    "The following auxiliary functions will help you generate propositions with those variables:"
   ]
  },
  {
   "cell_type": "code",
   "execution_count": null,
   "metadata": {},
   "outputs": [],
   "source": [
    "def field_var(sym, x, y):\n",
    "    assert type(x) == int and type(y) == int\n",
    "    return \"%s%i%i\" % (sym, x, y)\n",
    "\n",
    "def v_bomb(x, y):\n",
    "    return field_var(\"B\", x, y)\n",
    "\n",
    "def v_zero(x, y):\n",
    "    return field_var(\"Z\", x, y)\n",
    "\n",
    "def v_one(x, y):\n",
    "    return field_var(\"O\", x, y)\n",
    "\n",
    "def v_two(x, y):\n",
    "    return field_var(\"TW\", x, y)\n",
    "\n",
    "def v_three(x, y):\n",
    "    return field_var(\"TH\", x, y)\n",
    "\n",
    "def v_four(x, y):\n",
    "    return field_var(\"F\", x, y)"
   ]
  },
  {
   "cell_type": "markdown",
   "metadata": {},
   "source": [
    "### Sample knowledge base generation\n",
    "\n",
    "This in an example that demonstrates how propositional sentences can be added to the knowledge base."
   ]
  },
  {
   "cell_type": "code",
   "execution_count": null,
   "metadata": {},
   "outputs": [],
   "source": [
    "def generate_knowledge_example(dim_x = 7, dim_y = 7):\n",
    "    kb = []\n",
    "    for x in range(dim_x):\n",
    "        for y in range(dim_y):\n",
    "            new_proposition = v_bomb(x, y) + \" | ~\" + v_bomb(x, y) # Bxy ∨ ¬Bxy\n",
    "            kb.append(new_proposition)\n",
    "            \n",
    "            new_proposition = v_zero(x, y) + \" ==> \" + v_zero(x, y) # Zxy ==> Zxy\n",
    "            kb.append(new_proposition)\n",
    "            \n",
    "            new_proposition = v_two(x, y) + \" & ~\" + v_two(x, y) + \" ==> False\" # TWxy ∧ ¬TWxy ==> False\n",
    "            kb.append(new_proposition)\n",
    "    \n",
    "    return kb"
   ]
  },
  {
   "cell_type": "markdown",
   "metadata": {},
   "source": [
    "## Your Knowledge Base\n",
    "* There is no bomb in field `[0,0]`\n",
    "* There is no bomb in field `[6,6]`\n",
    "* The neighboring for field `[i,j]` are `[i-1,j]`, `[i, j+1]`, `[i+1, j]`, `[i, j-1]` (in border and corner cases, there are fewer)"
   ]
  },
  {
   "cell_type": "code",
   "execution_count": null,
   "metadata": {},
   "outputs": [],
   "source": [
    "def generate_knowledge(dim_x = 7, dim_y = 7):\n",
    "    # TODO generate the Knowledge Base\n",
    "    # you can assume dim_x and dim_y are always 7\n",
    "    kb = []\n",
    "    for x in range(dim_x):\n",
    "        for y in range(dim_y):\n",
    "            # TODO fill kb with propositions\n",
    "            pass\n",
    "    \n",
    "    return kb"
   ]
  },
  {
   "cell_type": "markdown",
   "metadata": {},
   "source": [
    "## Configuration\n",
    "### Choose a minefield:\n",
    "(A random field could be unsolvable)"
   ]
  },
  {
   "cell_type": "code",
   "execution_count": null,
   "metadata": {},
   "outputs": [],
   "source": [
    "# possible values: 1, 2, 3, 4, 5, 6, 7, 8, 9, 10, \"random\"\n",
    "minefield_gen = 1\n",
    "\n",
    "if minefield_gen == \"random\":\n",
    "    minefield = Minefield(dim_x = 7, dim_y = 7, mine_count=10)\n",
    "else:\n",
    "    minefield = Minefield(mine_map = getattr(maps, \"mine_map\"+str(minefield_gen)))"
   ]
  },
  {
   "cell_type": "markdown",
   "metadata": {},
   "source": [
    "### Choose a knowledge base class:"
   ]
  },
  {
   "cell_type": "markdown",
   "metadata": {},
   "source": [
    "#### possible values:\n",
    "* \"Dpll\"\n",
    "    - use this knowledge base for dpll proving\n",
    "    - this works for every kind of knowledge base\n",
    "* \"FC\"\n",
    "    - use this knowledge base for proving with forward chaining\n",
    "    - warning: the knowledge base should only contain clauses in the following forms for this to work:\n",
    "        * α & .. & β ==> γ & .. & δ\n",
    "        * α & .. & β <== γ & .. & δ\n",
    "        * α & .. & β <=> γ & .. & δ\n",
    "        * α & .. & β"
   ]
  },
  {
   "cell_type": "code",
   "execution_count": null,
   "metadata": {},
   "outputs": [],
   "source": [
    "# possible values: \"Dpll\", \"FC\"\n",
    "kb_gen = \"Dpll\"\n",
    "\n",
    "KB = globals()[kb_gen+\"PropKB\"]"
   ]
  },
  {
   "cell_type": "markdown",
   "metadata": {},
   "source": [
    "## Simulation\n",
    "### The Robot has to find a way through the minefield:\n",
    "* Valid actions are 'up','down','left' and 'right'\n",
    "* The robot get's information of the field he is on. For example: $¬B_{i, j} ∧ Z_{i, j}$\n",
    "* Walking on a mine kills the robot"
   ]
  },
  {
   "cell_type": "code",
   "execution_count": null,
   "metadata": {
    "scrolled": false
   },
   "outputs": [],
   "source": [
    "kb = KB() # create empty knowledge base\n",
    "\n",
    "print(\"feed knowledge base with knowledge..\")\n",
    "for str_expr in generate_knowledge(minefield.dim_x, minefield.dim_y):\n",
    "    kb.tell(expr(str_expr))\n",
    "\n",
    "# check if the knowledge base is obviosly wrong (you can remove this if it is too slow)\n",
    "print(\"scan knowledge base for contradictions..\")\n",
    "assert not kb.has_contradicting_knowledge()\n",
    "\n",
    "# run the simulation\n",
    "# when you set stop_on_risk to False, the simulation will continue with guessing when necessary\n",
    "# to speed up the simulation, set loop_delay to 0\n",
    "main_loop(minefield, kb, stop_on_risk = True, loop_delay = 1)"
   ]
  },
  {
   "cell_type": "code",
   "execution_count": null,
   "metadata": {},
   "outputs": [],
   "source": []
  }
 ],
 "metadata": {
  "kernelspec": {
   "display_name": "Python 3",
   "language": "python",
   "name": "python3"
  },
  "language_info": {
   "codemirror_mode": {
    "name": "ipython",
    "version": 3
   },
   "file_extension": ".py",
   "mimetype": "text/x-python",
   "name": "python",
   "nbconvert_exporter": "python",
   "pygments_lexer": "ipython3",
   "version": "3.6.7"
  }
 },
 "nbformat": 4,
 "nbformat_minor": 2
}
