{
 "cells": [
  {
   "cell_type": "code",
   "execution_count": 1,
   "metadata": {},
   "outputs": [],
   "source": [
    "import sys\n",
    "import numpy as np\n",
    "from numpy import linalg as LA"
   ]
  },
  {
   "cell_type": "code",
   "execution_count": 2,
   "metadata": {},
   "outputs": [],
   "source": [
    "# Get input from command prompt and run the program\n",
    "input_arg = sys.argv[1]"
   ]
  },
  {
   "cell_type": "code",
   "execution_count": 7,
   "metadata": {},
   "outputs": [],
   "source": [
    "def find_location(symbol, input_matrix):\n",
    "    location = [0,0]\n",
    "    for row in range(len(input_matrix)):\n",
    "        for column in range(len(input_matrix[row])):\n",
    "            if(symbol == input_matrix[row][column]):\n",
    "                location[0] = row\n",
    "                location[1] = column\n",
    "                break\n",
    "    return location"
   ]
  },
  {
   "cell_type": "code",
   "execution_count": 8,
   "metadata": {},
   "outputs": [
    {
     "name": "stdout",
     "output_type": "stream",
     "text": [
      "[3, 0] [3, 4]\n"
     ]
    }
   ],
   "source": [
    "# matrix = [['_', '_', '_', '_', '_'],\n",
    "#          ['_', '_', '_', '*', '_'],\n",
    "#          ['_', '_', '_', '*', '_'],\n",
    "#          ['R', '_', '*', '*', 'X']]\n",
    "# symbol = 'R'\n",
    "# current_position = find_location(symbol, matrix)\n",
    "# goal_position = find_location(\"X\", matrix)\n",
    "# print(current_position, goal_position)"
   ]
  },
  {
   "cell_type": "code",
   "execution_count": 9,
   "metadata": {},
   "outputs": [],
   "source": [
    "def valid_surrounding(current_position, input_matrix, explored_cells, frontier):\n",
    "    rows, cols = np.array(input_matrix).shape\n",
    "    waiting_list = []\n",
    "    directions = [[0,1],[1,1],[1,0],[1,-1],[0,-1],[-1,-1],[-1,0],[-1,1]]\n",
    "    \n",
    "    for direc in directions:\n",
    "        surrounding_cell = np.add(np.array(direc), np.array(current_position)).tolist()\n",
    "        in_frontier = surrounding_cell in frontier\n",
    "        in_explored = surrounding_cell in explored_cells\n",
    "        \n",
    "        if(surrounding_cell[0]>=rows or surrounding_cell[1]>=cols \n",
    "           or surrounding_cell[0]<0 or surrounding_cell[1]<0  # can't go outside the map\n",
    "           or in_frontier or in_explored): \n",
    "            continue\n",
    "        if(input_matrix[surrounding_cell[0]][surrounding_cell[1]] != \"*\"):\n",
    "            waiting_list.append(surrounding_cell)        \n",
    "    return waiting_list"
   ]
  },
  {
   "cell_type": "code",
   "execution_count": 10,
   "metadata": {},
   "outputs": [
    {
     "name": "stdout",
     "output_type": "stream",
     "text": [
      "[[3, 1], [2, 0], [2, 1]]\n"
     ]
    }
   ],
   "source": [
    "# evaluation = []\n",
    "# path_cost = []\n",
    "# frontier = []\n",
    "# explored_cells = current_position\n",
    "# waiting_list = valid_surrounding(current_position, matrix, explored_cells, frontier)\n",
    "# print(waiting_list)"
   ]
  },
  {
   "cell_type": "code",
   "execution_count": 37,
   "metadata": {},
   "outputs": [],
   "source": [
    "def evaluation_function(current_position, goal_position, frontier, path_cost, evaluation, valid_neighbors, current_cost):\n",
    "    heuristic = []\n",
    "    \n",
    "    # compute the cost of each possible step\n",
    "    move_step = []\n",
    "    step_cost = []\n",
    "    for cell in frontier:\n",
    "        heuristic.append(LA.norm(np.array(cell) - np.array(goal_position))) # heuristic\n",
    "        \n",
    "    for cell in valid_neighbors:\n",
    "        move_step.append([abs(x) for x in (np.array(cell) - np.array(current_position))])\n",
    "        diag = min(move_step[-1])\n",
    "        verti_horizon = [move_step[-1][0] - diag, move_step[-1][1] - diag]\n",
    "        step_cost.append(diag*10 + np.dot(verti_horizon, [6,5])) # single step path cost\n",
    "    \n",
    "    # only update the nodes newly added into the frontier\n",
    "    for i in range(len(frontier) - len(valid_neighbors), len(frontier)):\n",
    "        path_cost[i] += step_cost[i-(len(frontier) - len(valid_neighbors))] + current_cost # path cost\n",
    "\n",
    "    evaluation = [a+b for a, b in zip(heuristic, path_cost)] \n",
    "    \n",
    "    # sort the frontier according to cost\n",
    "    frontier = [x for _,x in sorted(zip(evaluation, frontier))]\n",
    "    path_cost = [x for _,x in sorted(zip(evaluation, path_cost))]\n",
    "    sorted(evaluation)\n",
    "    \n",
    "    return frontier, path_cost, evaluation"
   ]
  },
  {
   "cell_type": "code",
   "execution_count": 33,
   "metadata": {},
   "outputs": [
    {
     "name": "stdout",
     "output_type": "stream",
     "text": [
      "[[3, 1], [2, 0]] [11, 15] [14.0, 19.12310562561766]\n"
     ]
    }
   ],
   "source": [
    "# frontier = waiting_list\n",
    "# path_cost = len(frontier)*[0]\n",
    "# valid_neighbors = waiting_list\n",
    "# evaluation = [0]*len(waiting_list)\n",
    "# current_cost = path_cost[0]\n",
    "# frontier, path_cost, evaluation= evaluation_function(current_position, goal_position, \n",
    "#                                                      waiting_list, path_cost, evaluation, valid_neighbors, current_cost)\n",
    "# print(frontier, path_cost, evaluation)"
   ]
  },
  {
   "cell_type": "code",
   "execution_count": 34,
   "metadata": {},
   "outputs": [],
   "source": [
    "def goal_test(node, goal_position):\n",
    "    if(node[0]==goal_position[0] and node[1]==goal_position[1]):\n",
    "        return True\n",
    "    else:\n",
    "        return False"
   ]
  },
  {
   "cell_type": "markdown",
   "metadata": {},
   "source": [
    "### Searching"
   ]
  },
  {
   "cell_type": "code",
   "execution_count": 44,
   "metadata": {},
   "outputs": [],
   "source": [
    "def search_path(input_matrix):\n",
    "\n",
    "    # find the starting(goal) position\n",
    "    rob_position = find_location(\"R\", input_matrix)\n",
    "    goal_position = find_location(\"X\", input_matrix)\n",
    "    \n",
    "    # initialization\n",
    "    explored_cells = []\n",
    "    a = rob_position\n",
    "    explored_cells.append(a)\n",
    "        \n",
    "    explored_his = [] # [x, y, evaluation, path_cost, heuristic]\n",
    "    frontier = []\n",
    "    waiting_list = valid_surrounding(rob_position, input_matrix, explored_cells, frontier)\n",
    "    frontier = waiting_list\n",
    "    path_cost = len(frontier)*[0]\n",
    "    valid_neighbors = waiting_list\n",
    "    evaluation = [0]*len(waiting_list)\n",
    "    current_cost = 0\n",
    "    \n",
    "    # sort the valid_surrounding according to the evaluation \n",
    "    frontier, path_cost, evaluation = evaluation_function(rob_position, goal_position, \n",
    "                                                          frontier, path_cost, evaluation,\n",
    "                                                          valid_neighbors, current_cost)\n",
    "    \n",
    "    while(len(frontier) != 0):\n",
    "       \n",
    "        # pop the first one, save it into reached_list\n",
    "        current_position = frontier[0]\n",
    "        explored_cells = explored_cells\n",
    "        explored_cells.append(current_position)\n",
    "        explored_his.append([current_position[0], current_position[1]])\n",
    "        \n",
    "        explored_his[-1].append(evaluation[0])\n",
    "        explored_his[-1].append(path_cost[0])\n",
    "        \n",
    "        if(goal_test(current_position, goal_position)):\n",
    "            return path_cost[0]\n",
    "        \n",
    "        del frontier[0]\n",
    "        del evaluation[0]\n",
    "        current_cost = path_cost[0]\n",
    "        del path_cost[0]\n",
    "        \n",
    "        waiting_list = valid_surrounding(current_position, input_matrix, explored_cells, frontier)\n",
    "        for i in waiting_list:\n",
    "            frontier.append(i)\n",
    "        path_cost = path_cost + len(waiting_list)*[0]\n",
    "        valid_neighbors = waiting_list\n",
    "        # sort\n",
    "        frontier, path_cost, evaluation = evaluation_function(current_position, goal_position, \n",
    "                                                              frontier, path_cost, evaluation,\n",
    "                                                              valid_neighbors, current_cost)\n",
    "#         print(\"current_position\", current_position)\n",
    "#         print(\"frontier\", frontier)\n",
    "#         print(\"path_cost\", path_cost)\n",
    "#         print(\"evaluation\", evaluation)\n",
    "    # if no solution\n",
    "    return False"
   ]
  },
  {
   "cell_type": "markdown",
   "metadata": {},
   "source": [
    "### Main function"
   ]
  },
  {
   "cell_type": "code",
   "execution_count": 46,
   "metadata": {},
   "outputs": [],
   "source": [
    "def solve_task1(input_matrix):\n",
    "    # Enter your code here.\n",
    "    # Return the minimum cost or return No path found!\n",
    "    \n",
    "    path_found, explored_cells, minimum_cost = search_path(input_matrix)\n",
    "    \n",
    "    if(path_found):\n",
    "        return(minimum_cost)\n",
    "    else:\n",
    "        return \"No path found!\""
   ]
  },
  {
   "cell_type": "markdown",
   "metadata": {},
   "source": [
    "### Load the problem, and automatic solving"
   ]
  },
  {
   "cell_type": "code",
   "execution_count": null,
   "metadata": {},
   "outputs": [],
   "source": [
    "def run_program(file_name = input_arg):\n",
    "    # Read the input matrix\n",
    "    input_matrix = np.genfromtxt(file_name, dtype='str')\n",
    "    input_matrix = input_matrix.tolist\n",
    "    \n",
    "    # Your main function to solve the matrix\n",
    "    print(solve_task1(input_matrix))\n",
    "\n",
    "\n",
    "run_program()\n",
    "\n",
    "# To test the result yourself,\n",
    "# Open the command line tool, navigate to the folder and execute:\n",
    "# python Solution1.py input_for_task1.txt"
   ]
  },
  {
   "cell_type": "code",
   "execution_count": null,
   "metadata": {},
   "outputs": [],
   "source": []
  }
 ],
 "metadata": {
  "kernelspec": {
   "display_name": "Python 3",
   "language": "python",
   "name": "python3"
  },
  "language_info": {
   "codemirror_mode": {
    "name": "ipython",
    "version": 3
   },
   "file_extension": ".py",
   "mimetype": "text/x-python",
   "name": "python",
   "nbconvert_exporter": "python",
   "pygments_lexer": "ipython3",
   "version": "3.6.7"
  }
 },
 "nbformat": 4,
 "nbformat_minor": 2
}
